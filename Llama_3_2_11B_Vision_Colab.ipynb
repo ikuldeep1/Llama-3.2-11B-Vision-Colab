{
  "nbformat": 4,
  "nbformat_minor": 0,
  "metadata": {
    "colab": {
      "provenance": [],
      "gpuType": "T4",
      "authorship_tag": "ABX9TyMAIWGV2x1SdbHzrn9oEkni",
      "include_colab_link": true
    },
    "kernelspec": {
      "name": "python3",
      "display_name": "Python 3"
    },
    "language_info": {
      "name": "python"
    },
    "accelerator": "GPU"
  },
  "cells": [
    {
      "cell_type": "markdown",
      "metadata": {
        "id": "view-in-github",
        "colab_type": "text"
      },
      "source": [
        "<a href=\"https://colab.research.google.com/github/ikuldeep1/Llama-3.2-11B-Vision-Colab/blob/main/Llama_3_2_11B_Vision_Colab.ipynb\" target=\"_parent\"><img src=\"https://colab.research.google.com/assets/colab-badge.svg\" alt=\"Open In Colab\"/></a>"
      ]
    },
    {
      "cell_type": "code",
      "execution_count": null,
      "metadata": {
        "id": "oRtSSqcR5Vad"
      },
      "outputs": [],
      "source": [
        "!pip install bitsandbytes accelerate -q"
      ]
    },
    {
      "cell_type": "code",
      "source": [
        "from huggingface_hub import login\n",
        "\n",
        "login(token=\"your_huggingface_token_here\")"
      ],
      "metadata": {
        "id": "TTF4J2Ao5rnt"
      },
      "execution_count": 2,
      "outputs": []
    },
    {
      "cell_type": "code",
      "source": [
        "import torch\n",
        "from transformers import AutoProcessor, MllamaForConditionalGeneration\n",
        "from transformers import BitsAndBytesConfig\n",
        "\n",
        "model_id = \"meta-llama/Llama-3.2-11B-Vision-Instruct\"\n",
        "\n",
        "bnb_config = BitsAndBytesConfig(\n",
        "    load_in_4bit=True,\n",
        "    bnb_4bit_compute_dtype=torch.bfloat16,\n",
        "    bnb_4bit_use_double_quant=True,\n",
        "    bnb_4bit_quant_type=\"nf4\",\n",
        ")\n",
        "\n",
        "model = MllamaForConditionalGeneration.from_pretrained(\n",
        "    model_id,\n",
        "    quantization_config=bnb_config,\n",
        "    device_map=\"auto\"\n",
        ")\n",
        "\n",
        "processor = AutoProcessor.from_pretrained(model_id)\n"
      ],
      "metadata": {
        "id": "nFfmnJf96ECe"
      },
      "execution_count": null,
      "outputs": []
    },
    {
      "cell_type": "code",
      "source": [
        "from PIL import Image\n",
        "\n",
        "image = Image.open('/content/images/page_4.png')\n",
        "\n",
        "def chat_with_mllm(model, processor, prompt, image, messages=[]):\n",
        "    input_text = processor.apply_chat_template(\n",
        "        messages + [{\"role\": \"user\", \"content\": [{\"type\": \"image\"}, {\"type\": \"text\", \"text\": prompt}]}],\n",
        "        add_generation_prompt=True,\n",
        "        tokenize=False\n",
        "    )\n",
        "\n",
        "    inputs = processor(image, input_text, return_tensors=\"pt\").to(model.device)\n",
        "\n",
        "    output = model.generate(**inputs, max_new_tokens=512)\n",
        "    response = processor.batch_decode(output, skip_special_tokens=True)[0]\n",
        "\n",
        "    messages.append({\"role\": \"assistant\", \"content\": [{\"type\": \"text\", \"text\": response}]})\n",
        "    return response, messages\n"
      ],
      "metadata": {
        "id": "BQmswPdJ6R5M"
      },
      "execution_count": null,
      "outputs": []
    },
    {
      "cell_type": "code",
      "source": [
        "prompt = \"Extract all the text from the image with layout. If the image has flow diagram then extract the flow diagram and represent in steps. I need to pass this information the LLM so extract the text in a format that LLM can easily understand the semantic context. Do not add summary or explain anything. Just extract all the text in proper layout.\"\n",
        "response, messages = chat_with_mllm(model, processor, prompt, image)\n",
        "print(response)"
      ],
      "metadata": {
        "id": "_n0hYSCm8Nns"
      },
      "execution_count": null,
      "outputs": []
    }
  ]
}